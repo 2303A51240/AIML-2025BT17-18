{
  "nbformat": 4,
  "nbformat_minor": 0,
  "metadata": {
    "colab": {
      "provenance": [],
      "authorship_tag": "ABX9TyN4C4fEQUCGyqYb1yo1Hrhr",
      "include_colab_link": true
    },
    "kernelspec": {
      "name": "python3",
      "display_name": "Python 3"
    },
    "language_info": {
      "name": "python"
    }
  },
  "cells": [
    {
      "cell_type": "markdown",
      "metadata": {
        "id": "view-in-github",
        "colab_type": "text"
      },
      "source": [
        "<a href=\"https://colab.research.google.com/github/2303A51240/AIML-2025BT17-18/blob/main/AIML1.ipynb\" target=\"_parent\"><img src=\"https://colab.research.google.com/assets/colab-badge.svg\" alt=\"Open In Colab\"/></a>"
      ]
    },
    {
      "cell_type": "code",
      "execution_count": 3,
      "metadata": {
        "colab": {
          "base_uri": "https://localhost:8080/"
        },
        "id": "GXzrm4GEkL1c",
        "outputId": "63e14d8f-8760-4c90-e255-a58fd5e97bef"
      },
      "outputs": [
        {
          "output_type": "stream",
          "name": "stdout",
          "text": [
            "Type of list1: <class 'list'>\n",
            "Type of array1: <class 'numpy.ndarray'>\n",
            "Multiplication of arrays: [ 6 14 24 36 50]\n",
            "Division of arrays: [0.16666667 0.28571429 0.375      0.44444444 0.5       ]\n",
            "Power of arrays: [ 1  4  9 16 25]\n",
            "Addition of Two:  [ 7  9 11 13 15]\n",
            "Sine of array1: [ 0.84147098  0.90929743  0.14112001 -0.7568025  -0.95892427]\n",
            "Natural log of array1: [0.         0.69314718 1.09861229 1.38629436 1.60943791]\n",
            "Log base 2 of array1: [0.         1.         1.5849625  2.         2.32192809]\n",
            "Exponential of array1: [  2.71828183   7.3890561   20.08553692  54.59815003 148.4131591 ]\n"
          ]
        }
      ],
      "source": [
        "import numpy as np\n",
        "list1 = [1, 2, 3, 4, 5]\n",
        "list2 = [6, 7, 8, 9, 10]\n",
        "print(\"Type of list1:\", type(list1))\n",
        "\n",
        "\n",
        "\n",
        "array1 = np.array([1, 2, 3, 4, 5])\n",
        "array2 = np.array([6, 7, 8, 9, 10])\n",
        "print(\"Type of array1:\", type(array1))\n",
        "\n",
        "\n",
        "print(\"Multiplication of arrays:\", array1 * array2)\n",
        "\n",
        "print(\"Division of arrays:\", array1 / array2)\n",
        "\n",
        "print(\"Power of arrays:\", array1 ** 2)\n",
        "\n",
        "\n",
        "result = array1 + array2\n",
        "print(\"Addition of Two: \", result)\n",
        "\n",
        "\n",
        "print(\"Sine of array1:\", np.sin(array1))\n",
        "print(\"Natural log of array1:\", np.log(array1))\n",
        "print(\"Log base 2 of array1:\", np.log2(array1))\n",
        "print(\"Exponential of array1:\", np.exp(array1))\n"
      ]
    }
  ]
}