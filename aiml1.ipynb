{
  "nbformat": 4,
  "nbformat_minor": 0,
  "metadata": {
    "colab": {
      "provenance": [],
      "authorship_tag": "ABX9TyM1GjjIRXYKeayVKBttiBx1",
      "include_colab_link": true
    },
    "kernelspec": {
      "name": "python3",
      "display_name": "Python 3"
    },
    "language_info": {
      "name": "python"
    }
  },
  "cells": [
    {
      "cell_type": "markdown",
      "metadata": {
        "id": "view-in-github",
        "colab_type": "text"
      },
      "source": [
        "<a href=\"https://colab.research.google.com/github/2303A51240/AIML-2025BT17-18/blob/main/aiml1.ipynb\" target=\"_parent\"><img src=\"https://colab.research.google.com/assets/colab-badge.svg\" alt=\"Open In Colab\"/></a>"
      ]
    },
    {
      "cell_type": "code",
      "execution_count": 1,
      "metadata": {
        "colab": {
          "base_uri": "https://localhost:8080/"
        },
        "id": "4GMbQlrFqaTW",
        "outputId": "b7d31ad5-06c3-46f9-d127-46429f19d39b"
      },
      "outputs": [
        {
          "output_type": "stream",
          "name": "stdout",
          "text": [
            "<class 'list'>\n",
            "<class 'numpy.ndarray'>\n",
            "[ 5 12 21 32]\n",
            "[0.2        0.33333333 0.42857143 0.5       ]\n",
            "[ 1  4  9 16]\n",
            "Addition of Two: array1 + array2 =  [ 6  8 10 12]\n",
            "[ 0.84147098  0.90929743  0.14112001 -0.7568025 ]\n",
            "[0.         0.69314718 1.09861229 1.38629436]\n",
            "[0.        1.        1.5849625 2.       ]\n",
            "[ 2.71828183  7.3890561  20.08553692 54.59815003]\n"
          ]
        }
      ],
      "source": [
        "\n",
        "\n",
        "import numpy as np\n",
        "\n",
        "list1 = [1, 2, 3, 4]\n",
        "list2 = [5, 6, 7, 8]\n",
        "\n",
        "\n",
        "array1 = np.array([1, 2, 3, 4])\n",
        "array2 = np.array([5, 6, 7, 8])\n",
        "\n",
        "\n",
        "print(type(list1))\n",
        "print(type(array1))\n",
        "\n",
        "\n",
        "print(array1 * array2)\n",
        "\n",
        "\n",
        "print(array1 / array2)\n",
        "\n",
        "\n",
        "print(array1 ** 2)\n",
        "\n",
        "\n",
        "result = array1 + array2\n",
        "print(\"Addition of Two: array1 + array2 = \", result)\n",
        "\n",
        "\n",
        "print(np.sin(array1))\n",
        "print(np.log(array1))\n",
        "print(np.log2(array1))\n",
        "print(np.exp(array1))\n"
      ]
    }
  ]
}